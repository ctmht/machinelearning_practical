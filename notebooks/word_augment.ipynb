{
 "cells": [
  {
   "cell_type": "code",
   "execution_count": 1,
   "id": "1ccc6e2c-9412-43d3-ad53-07bbb0d553c2",
   "metadata": {
    "tags": []
   },
   "outputs": [],
   "source": [
    "import nlpaug.augmenter.word as naw\n",
    "\n",
    "import gensim\n",
    "from gensim.models import Word2Vec"
   ]
  },
  {
   "cell_type": "code",
   "execution_count": 2,
   "id": "1e5a07df-aa70-48e8-91fc-c134904c9d77",
   "metadata": {
    "tags": []
   },
   "outputs": [],
   "source": [
    "import numpy as np\n",
    "import pandas as pd\n",
    "from nltk.corpus import sentiwordnet as swn"
   ]
  },
  {
   "cell_type": "code",
   "execution_count": 3,
   "id": "d56ffdb0-90e9-4031-91ec-d5f54f2c765e",
   "metadata": {
    "tags": []
   },
   "outputs": [],
   "source": [
    "def sentiment(sentence):\n",
    "    import nltk\n",
    "    from nltk.corpus import wordnet as wn\n",
    "    from nltk.corpus import sentiwordnet as swn\n",
    "    from nltk.tag import pos_tag\n",
    "    \n",
    "    token = nltk.word_tokenize(sentence)\n",
    "    after_tagging = nltk.pos_tag(token)\n",
    "    \n",
    "    def penn_to_wn(tag):\n",
    "        \"\"\"\n",
    "        Convert between the PennTreebank tags to simple Wordnet tags\n",
    "        \"\"\"\n",
    "        if tag.startswith('J'):\n",
    "            return wn.ADJ\n",
    "        elif tag.startswith('N'):\n",
    "            return wn.NOUN\n",
    "        elif tag.startswith('R'):\n",
    "            return wn.ADV\n",
    "        elif tag.startswith('V'):\n",
    "            return wn.VERB\n",
    "        return None\n",
    "    \n",
    "    pos_score = 0.0\n",
    "    neg_score = 0.0\n",
    "    obj_score = 0.0\n",
    "    tokens_count = 0\n",
    "    \n",
    "    from nltk.stem import WordNetLemmatizer\n",
    "    lemmatizer = WordNetLemmatizer()\n",
    "    for word, tag in after_tagging:\n",
    "        wn_tag = penn_to_wn(tag)\n",
    "        if wn_tag not in (wn.NOUN, wn.ADJ, wn.ADV):\n",
    "            continue\n",
    "        \n",
    "        lemma = lemmatizer.lemmatize(word, pos=wn_tag)\n",
    "        if not lemma:\n",
    "            continue\n",
    "        \n",
    "        synsets = wn.synsets(lemma, pos=wn_tag)\n",
    "        if not synsets:\n",
    "            continue\n",
    "        \n",
    "        # Take the first sense, the most common\n",
    "        synset = synsets[0]\n",
    "        swn_synset = swn.senti_synset(synset.name())\n",
    "        \n",
    "        pos_score += swn_synset.pos_score()\n",
    "        neg_score += swn_synset.neg_score()\n",
    "        obj_score += swn_synset.obj_score()\n",
    "        tokens_count += 1\n",
    "    \n",
    "    try:\n",
    "        pos_score /= tokens_count\n",
    "        neg_score /= tokens_count\n",
    "        obj_score /= tokens_count\n",
    "    except:\n",
    "        pass\n",
    "    \n",
    "    return [pos_score, neg_score, obj_score]"
   ]
  },
  {
   "cell_type": "code",
   "execution_count": 4,
   "id": "1bfea041-47b7-4427-9d78-121ac3d86552",
   "metadata": {},
   "outputs": [],
   "source": [
    "def aug_glove_getter(encoding_dim: int):\n",
    "    path_to_glove_file = \"GloVe_data/glove.twitter.27B.\" + str(encoding_dim) + \"d.txt\"\n",
    "    return naw.WordEmbsAug(model_type='glove', model_path=path_to_glove_file, aug_min=1, aug_max=4)\n",
    "aug_glove_25  = aug_glove_getter(25)\n",
    "aug_glove_50  = aug_glove_getter(50)\n",
    "aug_glove_100 = aug_glove_getter(100)\n",
    "aug_glove_200 = aug_glove_getter(200)\n",
    "aug_bert = naw.ContextualWordEmbsAug(model_type=\"bert\", aug_min=1, aug_max=4)\n",
    "aug_wn = naw.SynonymAug(aug_src=\"wordnet\", aug_min=1, aug_max=4)"
   ]
  },
  {
   "cell_type": "code",
   "execution_count": 47,
   "id": "5b1424eb-5ea9-4dee-a0f7-8ee9895fd709",
   "metadata": {
    "tags": []
   },
   "outputs": [],
   "source": [
    "def get_augments(tweet: str, aug_ratio: int, aug_factor: int=4):\n",
    "    n_augments = aug_ratio * aug_factor\n",
    "    \n",
    "    aug_glove_25_tweets  = aug_glove_25.augment(tweet, n = n_augments)\n",
    "    aug_glove_50_tweets  = aug_glove_50.augment(tweet, n = n_augments)\n",
    "    aug_glove_100_tweets = aug_glove_100.augment(tweet, n = n_augments)\n",
    "    aug_glove_200_tweets = aug_glove_200.augment(tweet, n = n_augments)\n",
    "    aug_bert_tweets = aug_bert.augment(tweet, n = 2*n_augments)\n",
    "    aug_wn_tweets = aug_wn.augment(tweet, n = 2*n_augments)\n",
    "    \n",
    "    df = pd.DataFrame({\"tweet\" : np.concatenate([\n",
    "        [tweet],\n",
    "        aug_glove_25_tweets,\n",
    "        aug_glove_50_tweets,\n",
    "        aug_glove_100_tweets,\n",
    "        aug_glove_200_tweets,\n",
    "        aug_bert_tweets,\n",
    "        aug_wn_tweets\n",
    "    ])})\n",
    "    \n",
    "    df[\"sentiment\"] = df[\"tweet\"].map(lambda tweet: sentiment(tweet))\n",
    "    \n",
    "    df[\"pos\"] = df[\"sentiment\"].map(lambda score: score[0])\n",
    "    df[\"neg\"] = df[\"sentiment\"].map(lambda score: score[1])\n",
    "    df[\"obj\"] = df[\"sentiment\"].map(lambda score: score[2])\n",
    "\n",
    "    df[\"delta_pos\"] = df[\"pos\"] - df[\"pos\"][0]\n",
    "    df[\"delta_neg\"] = df[\"neg\"] - df[\"neg\"][0]\n",
    "    df[\"delta_obj\"] = df[\"obj\"] - df[\"obj\"][0]\n",
    "\n",
    "    df[\"delta_sq\"] = df[\"delta_pos\"]**2 + df[\"delta_neg\"]**2 + df[\"delta_obj\"]**2\n",
    "    df = df.drop([\"sentiment\", \"delta_pos\", \"delta_neg\", \"delta_obj\"], axis = 1)\n",
    "\n",
    "    df = df.sort_values(by=\"delta_sq\", ascending=True, ignore_index=True)\n",
    "    \n",
    "    #print(\"Closest matches:\", end=\"\\n    \")\n",
    "    #for close_tweet in df[\"tweet\"][1:aug_ratio+1]:\n",
    "    #    print(close_tweet, end=\"\\n    \")\n",
    "    \n",
    "    return df.iloc[1:aug_ratio+1]"
   ]
  },
  {
   "cell_type": "code",
   "execution_count": 48,
   "id": "a85ea7c3-2d7f-453c-afaa-4fd362596d2b",
   "metadata": {
    "tags": []
   },
   "outputs": [
    {
     "data": {
      "text/html": [
       "<div>\n",
       "<style scoped>\n",
       "    .dataframe tbody tr th:only-of-type {\n",
       "        vertical-align: middle;\n",
       "    }\n",
       "\n",
       "    .dataframe tbody tr th {\n",
       "        vertical-align: top;\n",
       "    }\n",
       "\n",
       "    .dataframe thead th {\n",
       "        text-align: right;\n",
       "    }\n",
       "</style>\n",
       "<table border=\"1\" class=\"dataframe\">\n",
       "  <thead>\n",
       "    <tr style=\"text-align: right;\">\n",
       "      <th></th>\n",
       "      <th>tweet</th>\n",
       "      <th>pos</th>\n",
       "      <th>neg</th>\n",
       "      <th>obj</th>\n",
       "      <th>delta_sq</th>\n",
       "    </tr>\n",
       "  </thead>\n",
       "  <tbody>\n",
       "    <tr>\n",
       "      <th>1</th>\n",
       "      <td>Troll 5 of Happy Minute and all represent well.</td>\n",
       "      <td>0.3125</td>\n",
       "      <td>0.0</td>\n",
       "      <td>0.6875</td>\n",
       "      <td>0.0</td>\n",
       "    </tr>\n",
       "    <tr>\n",
       "      <th>2</th>\n",
       "      <td>Round five of Happy Minute and all is well.</td>\n",
       "      <td>0.3125</td>\n",
       "      <td>0.0</td>\n",
       "      <td>0.6875</td>\n",
       "      <td>0.0</td>\n",
       "    </tr>\n",
       "    <tr>\n",
       "      <th>3</th>\n",
       "      <td>Round 5 of Happy 60 minutes and all is well.</td>\n",
       "      <td>0.3125</td>\n",
       "      <td>0.0</td>\n",
       "      <td>0.6875</td>\n",
       "      <td>0.0</td>\n",
       "    </tr>\n",
       "  </tbody>\n",
       "</table>\n",
       "</div>"
      ],
      "text/plain": [
       "                                             tweet     pos  neg     obj  \\\n",
       "1  Troll 5 of Happy Minute and all represent well.  0.3125  0.0  0.6875   \n",
       "2      Round five of Happy Minute and all is well.  0.3125  0.0  0.6875   \n",
       "3     Round 5 of Happy 60 minutes and all is well.  0.3125  0.0  0.6875   \n",
       "\n",
       "   delta_sq  \n",
       "1       0.0  \n",
       "2       0.0  \n",
       "3       0.0  "
      ]
     },
     "execution_count": 48,
     "metadata": {},
     "output_type": "execute_result"
    }
   ],
   "source": [
    "tweet = \"Round 5 of Happy Hour and all is well.\"\n",
    "get_augments(tweet, 3)"
   ]
  },
  {
   "cell_type": "markdown",
   "id": "a10724c2-de25-4c26-8060-b04f3b5342f1",
   "metadata": {},
   "source": [
    "# Label Frequencies (Before augmentation)"
   ]
  },
  {
   "cell_type": "code",
   "execution_count": 49,
   "id": "bfa855bc-8f2f-471c-b947-84c51bcd27c0",
   "metadata": {
    "tags": []
   },
   "outputs": [
    {
     "data": {
      "image/png": "[encoded data removed]",
      "text/plain": [
       "<Figure size 640x480 with 1 Axes>"
      ]
     },
     "metadata": {},
     "output_type": "display_data"
    }
   ],
   "source": [
    "import matplotlib.pyplot as plt\n",
    "\n",
    "def load_labels_as_dict(file_name: str):\n",
    "    labels: dict = {}\n",
    "    with open(file_name) as file:\n",
    "        for label in file:\n",
    "            label = int(label.strip()) + 1\n",
    "            labels[label] = labels.get(label, 0) + 1\n",
    "    return labels\n",
    "\n",
    "\n",
    "def print_dict(dictionary):\n",
    "    for key, value in sorted(dictionary.items()):\n",
    "        print(key, value)\n",
    "\n",
    "\n",
    "def plot_histogram(dictionary, keep_results: bool=False):\n",
    "    bins = []\n",
    "    frequencies = []\n",
    "    for key, value in sorted(dictionary.items()):\n",
    "        bins.append(str(key))\n",
    "        frequencies.append(value)\n",
    "    \n",
    "    plt.bar(bins, frequencies)\n",
    "    plt.xlabel('Emoji class')\n",
    "    plt.ylabel('Frequency')\n",
    "    plt.title('Emoji Label Frequencies from the Train Dataset')\n",
    "    plt.xticks(rotation = 45)\n",
    "    plt.savefig(\"emoji_frequencies.png\")\n",
    "    \n",
    "    if keep_results:\n",
    "        return bins, frequencies\n",
    "\n",
    "labels = load_labels_as_dict(\"../data/train_labels.txt\")\n",
    "bins, frequencies = plot_histogram(labels, keep_results=True)"
   ]
  },
  {
   "cell_type": "code",
   "execution_count": 56,
   "id": "3394ab0f-c0d3-4c5a-8f17-ad0179055e74",
   "metadata": {
    "tags": []
   },
   "outputs": [],
   "source": [
    "def augment(target: str, frequencies: [float]):\n",
    "    fnt = \"../data/\" + target + \"_text.txt\"\n",
    "    ft = open(fnt, 'r', encoding='utf-8')\n",
    "    fnl = \"../data/\" + target + \"_labels.txt\"\n",
    "    fl = open(fnl, 'r', encoding='utf-8')\n",
    "    \n",
    "    rfnt = \"../data/aug_data/\" + target + \"_text_aug.txt\"\n",
    "    rft = open(rfnt, 'w', encoding='utf-8')\n",
    "    rfnl = \"../data/aug_data/\" + target + \"_labels_aug.txt\"\n",
    "    rfl = open(rfnl, 'w', encoding='utf-8')\n",
    "    \n",
    "    max_freq = max(frequencies)\n",
    "    \n",
    "    i = 0\n",
    "    for tweet, label in zip(ft, fl):\n",
    "        # Keep original tweet\n",
    "        rft.write(tweet)\n",
    "        rfl.write(label)\n",
    "        \n",
    "        # Augment enough to match highest pre-aug class\n",
    "        this_freq = frequencies[int(label)]\n",
    "        \n",
    "        aug_tweets = get_augments(tweet, int(max_freq/this_freq))[\"tweet\"]\n",
    "        for aug_tweet in aug_tweets:\n",
    "            if aug_tweet[-1] != '\\n':\n",
    "                aug_tweet += '\\n'\n",
    "            rft.write(aug_tweet)\n",
    "            rfl.write(label)\n",
    "        \n",
    "        i+=1\n",
    "        if i == 5:\n",
    "            break"
   ]
  },
  {
   "cell_type": "code",
   "execution_count": 57,
   "id": "bcd2fb46-f760-4e2e-a86e-79332d5012f2",
   "metadata": {
    "tags": []
   },
   "outputs": [],
   "source": [
    "augment(\"test\", frequencies)"
   ]
  },
  {
   "cell_type": "code",
   "execution_count": null,
   "id": "ffc02c29-2574-48fc-b4a9-35c20dd1ad54",
   "metadata": {},
   "outputs": [],
   "source": []
  }
 ],
 "metadata": {
  "kernelspec": {
   "display_name": "Python 3 (ipykernel)",
   "language": "python",
   "name": "python3"
  },
  "language_info": {
   "codemirror_mode": {
    "name": "ipython",
    "version": 3
   },
   "file_extension": ".py",
   "mimetype": "text/x-python",
   "name": "python",
   "nbconvert_exporter": "python",
   "pygments_lexer": "ipython3",
   "version": "3.11.3"
  }
 },
 "nbformat": 4,
 "nbformat_minor": 5
}
